{
  "nbformat": 4,
  "nbformat_minor": 0,
  "metadata": {
    "colab": {
      "provenance": [],
      "gpuType": "T4",
      "authorship_tag": "ABX9TyOacNQ/A1LZn3OxSkNgxMEE",
      "include_colab_link": true
    },
    "kernelspec": {
      "name": "python3",
      "display_name": "Python 3"
    },
    "language_info": {
      "name": "python"
    },
    "accelerator": "GPU"
  },
  "cells": [
    {
      "cell_type": "markdown",
      "metadata": {
        "id": "view-in-github",
        "colab_type": "text"
      },
      "source": [
        "<a href=\"https://colab.research.google.com/github/hanghae-plus-AI/AI-1-soyoungcareer/blob/main/week1/Chapter1_1_%EA%B8%B0%EB%B3%B8%EA%B3%BC%EC%A0%9C.ipynb\" target=\"_parent\"><img src=\"https://colab.research.google.com/assets/colab-badge.svg\" alt=\"Open In Colab\"/></a>"
      ]
    },
    {
      "cell_type": "markdown",
      "source": [
        "- 과제 수행 순서\n",
        "    1. testset, testloader 추가\n",
        "    2. `nn.CrossEntropyLoss` 적용\n",
        "        1. output demension 수정\n",
        "        2. loss 계산 수정\n",
        "    3. 정확도 plot"
      ],
      "metadata": {
        "id": "n1_ccDNO29j1"
      }
    },
    {
      "cell_type": "code",
      "execution_count": null,
      "metadata": {
        "id": "z8Ax2QcjePRa"
      },
      "outputs": [],
      "source": [
        "import torch\n",
        "import torchvision\n",
        "import torchvision.transforms as transforms"
      ]
    },
    {
      "cell_type": "code",
      "source": [
        "transform = transforms.ToTensor()\n",
        "\n",
        "trainset = torchvision.datasets.MNIST(\n",
        "    root='./data',\n",
        "    train=True,\n",
        "    download=True,\n",
        "    transform=transform\n",
        ")\n",
        "\n",
        "testset = torchvision.datasets.MNIST(\n",
        "    root='./data',\n",
        "    train=False,\n",
        "    download=True,\n",
        "    transform=transform\n",
        ")"
      ],
      "metadata": {
        "colab": {
          "base_uri": "https://localhost:8080/"
        },
        "id": "H-BG7lmWeTpD",
        "outputId": "49c13e30-2778-4621-834c-14870d2082e9"
      },
      "execution_count": null,
      "outputs": [
        {
          "output_type": "stream",
          "name": "stdout",
          "text": [
            "Downloading http://yann.lecun.com/exdb/mnist/train-images-idx3-ubyte.gz\n",
            "Failed to download (trying next):\n",
            "HTTP Error 403: Forbidden\n",
            "\n",
            "Downloading https://ossci-datasets.s3.amazonaws.com/mnist/train-images-idx3-ubyte.gz\n",
            "Downloading https://ossci-datasets.s3.amazonaws.com/mnist/train-images-idx3-ubyte.gz to ./data/MNIST/raw/train-images-idx3-ubyte.gz\n"
          ]
        },
        {
          "output_type": "stream",
          "name": "stderr",
          "text": [
            "100%|██████████| 9912422/9912422 [00:02<00:00, 4169189.82it/s]\n"
          ]
        },
        {
          "output_type": "stream",
          "name": "stdout",
          "text": [
            "Extracting ./data/MNIST/raw/train-images-idx3-ubyte.gz to ./data/MNIST/raw\n",
            "\n",
            "Downloading http://yann.lecun.com/exdb/mnist/train-labels-idx1-ubyte.gz\n",
            "Failed to download (trying next):\n",
            "HTTP Error 403: Forbidden\n",
            "\n",
            "Downloading https://ossci-datasets.s3.amazonaws.com/mnist/train-labels-idx1-ubyte.gz\n",
            "Downloading https://ossci-datasets.s3.amazonaws.com/mnist/train-labels-idx1-ubyte.gz to ./data/MNIST/raw/train-labels-idx1-ubyte.gz\n"
          ]
        },
        {
          "output_type": "stream",
          "name": "stderr",
          "text": [
            "100%|██████████| 28881/28881 [00:00<00:00, 135182.21it/s]\n"
          ]
        },
        {
          "output_type": "stream",
          "name": "stdout",
          "text": [
            "Extracting ./data/MNIST/raw/train-labels-idx1-ubyte.gz to ./data/MNIST/raw\n",
            "\n",
            "Downloading http://yann.lecun.com/exdb/mnist/t10k-images-idx3-ubyte.gz\n",
            "Failed to download (trying next):\n",
            "HTTP Error 403: Forbidden\n",
            "\n",
            "Downloading https://ossci-datasets.s3.amazonaws.com/mnist/t10k-images-idx3-ubyte.gz\n",
            "Downloading https://ossci-datasets.s3.amazonaws.com/mnist/t10k-images-idx3-ubyte.gz to ./data/MNIST/raw/t10k-images-idx3-ubyte.gz\n"
          ]
        },
        {
          "output_type": "stream",
          "name": "stderr",
          "text": [
            "100%|██████████| 1648877/1648877 [00:01<00:00, 1089346.80it/s]\n"
          ]
        },
        {
          "output_type": "stream",
          "name": "stdout",
          "text": [
            "Extracting ./data/MNIST/raw/t10k-images-idx3-ubyte.gz to ./data/MNIST/raw\n",
            "\n",
            "Downloading http://yann.lecun.com/exdb/mnist/t10k-labels-idx1-ubyte.gz\n",
            "Failed to download (trying next):\n",
            "HTTP Error 403: Forbidden\n",
            "\n",
            "Downloading https://ossci-datasets.s3.amazonaws.com/mnist/t10k-labels-idx1-ubyte.gz\n",
            "Downloading https://ossci-datasets.s3.amazonaws.com/mnist/t10k-labels-idx1-ubyte.gz to ./data/MNIST/raw/t10k-labels-idx1-ubyte.gz\n"
          ]
        },
        {
          "output_type": "stream",
          "name": "stderr",
          "text": [
            "100%|██████████| 4542/4542 [00:00<00:00, 4305204.24it/s]"
          ]
        },
        {
          "output_type": "stream",
          "name": "stdout",
          "text": [
            "Extracting ./data/MNIST/raw/t10k-labels-idx1-ubyte.gz to ./data/MNIST/raw\n",
            "\n"
          ]
        },
        {
          "output_type": "stream",
          "name": "stderr",
          "text": [
            "\n"
          ]
        }
      ]
    },
    {
      "cell_type": "code",
      "source": [
        "from matplotlib import pyplot as plt\n",
        "\n",
        "\n",
        "print(len(trainset))\n",
        "print(trainset[0][0].shape, trainset[0][1])\n",
        "plt.imshow(trainset[0][0][0], cmap='gray')"
      ],
      "metadata": {
        "colab": {
          "base_uri": "https://localhost:8080/",
          "height": 482
        },
        "id": "ylHJAXe0eZmK",
        "outputId": "06fec82c-e708-4a91-98e2-5cf3ec50e8bc"
      },
      "execution_count": null,
      "outputs": [
        {
          "output_type": "stream",
          "name": "stdout",
          "text": [
            "60000\n",
            "torch.Size([1, 28, 28]) 5\n"
          ]
        },
        {
          "output_type": "execute_result",
          "data": {
            "text/plain": [
              "<matplotlib.image.AxesImage at 0x7814446d47c0>"
            ]
          },
          "metadata": {},
          "execution_count": 4
        },
        {
          "output_type": "display_data",
          "data": {
            "text/plain": [
              "<Figure size 640x480 with 1 Axes>"
            ],
            "image/png": "[encoded data removed]"
          },
          "metadata": {}
        }
      ]
    },
    {
      "cell_type": "code",
      "source": [
        "batch_size = 256\n",
        "trainloader = torch.utils.data.DataLoader(\n",
        "    trainset,\n",
        "    batch_size=batch_size,\n",
        "    shuffle=True\n",
        ")\n",
        "\n",
        "testloader = torch.utils.data.DataLoader(\n",
        "    testset,\n",
        "    batch_size=batch_size,\n",
        "    shuffle=False\n",
        ")"
      ],
      "metadata": {
        "id": "jNIffQ9Eecl0"
      },
      "execution_count": null,
      "outputs": []
    },
    {
      "cell_type": "code",
      "source": [
        "dataiter = iter(trainloader)\n",
        "images, labels = next(dataiter)\n",
        "print(images.shape, labels.shape)"
      ],
      "metadata": {
        "colab": {
          "base_uri": "https://localhost:8080/"
        },
        "id": "Nd0QMgRIeedB",
        "outputId": "9c57c876-2e22-4e21-fae4-0db9f08ca287"
      },
      "execution_count": null,
      "outputs": [
        {
          "output_type": "stream",
          "name": "stdout",
          "text": [
            "torch.Size([256, 1, 28, 28]) torch.Size([256])\n"
          ]
        }
      ]
    },
    {
      "cell_type": "code",
      "source": [
        "from torch import nn\n",
        "\n",
        "\n",
        "class Model(nn.Module):\n",
        "  def __init__(self, input_dim, n_dim):\n",
        "    super().__init__()\n",
        "\n",
        "    self.layer1 = nn.Linear(input_dim, n_dim)\n",
        "    self.layer2 = nn.Linear(n_dim, n_dim)\n",
        "    self.layer3 = nn.Linear(n_dim, 10)  # 출력 차원 10으로 변경 (0~9)\n",
        "\n",
        "    self.act = nn.ReLU()\n",
        "\n",
        "  def forward(self, x):\n",
        "    x = torch.flatten(x, start_dim=1)    # 데이터 평탄화\n",
        "    x = self.act(self.layer1(x))\n",
        "    x = self.act(self.layer2(x))\n",
        "    x = self.layer3(x)    # 활성화 함수는 마지막 층에서 사용하지 않음\n",
        "\n",
        "    return x\n",
        "\n",
        "\n",
        "model = Model(28 * 28 * 1, 1024)"
      ],
      "metadata": {
        "id": "fc2qLoiDef4m"
      },
      "execution_count": null,
      "outputs": []
    },
    {
      "cell_type": "code",
      "source": [
        "from torch.optim import SGD\n",
        "\n",
        "lr = 0.001\n",
        "model = model.to('cuda')\n",
        "\n",
        "optimizer = SGD(model.parameters(), lr=lr)\n",
        "\n",
        "# 손실 함수 정의\n",
        "criterion = nn.CrossEntropyLoss()"
      ],
      "metadata": {
        "id": "gdk6PcqbehXJ"
      },
      "execution_count": null,
      "outputs": []
    },
    {
      "cell_type": "code",
      "source": [
        "import numpy as np\n",
        "\n",
        "# 정확도 측정 함수\n",
        "def accuracy(model, dataloader):\n",
        "  cnt = 0\n",
        "  acc = 0\n",
        "\n",
        "  for data in dataloader:\n",
        "    inputs, labels = data\n",
        "    inputs, labels = inputs.to('cuda'), labels.to('cuda')\n",
        "\n",
        "    preds = model(inputs)\n",
        "    preds = torch.argmax(preds, dim=-1)\n",
        "\n",
        "    cnt += labels.shape[0]\n",
        "    acc += (labels == preds).sum().item()\n",
        "\n",
        "  return acc / cnt\n",
        "\n",
        "# 시각화 함수 정의\n",
        "def plot_acc(train_accs, test_accs, label1='train', label2='test'):\n",
        "  x = np.arange(len(train_accs))\n",
        "\n",
        "  plt.plot(x, train_accs, label=label1)\n",
        "  plt.plot(x, test_accs, label=label2)\n",
        "  plt.legend()\n",
        "  plt.show()\n",
        "\n",
        "\n",
        "train_accuracies = []\n",
        "test_accuracies = []\n",
        "\n",
        "n_epochs = 100\n",
        "\n",
        "for epoch in range(n_epochs):\n",
        "    total_loss = 0.\n",
        "\n",
        "    # 학습 모드\n",
        "    model.train()\n",
        "    for data in trainloader:\n",
        "        model.zero_grad()\n",
        "        inputs, labels = data\n",
        "        inputs, labels = inputs.to('cuda'), labels.to('cuda')\n",
        "\n",
        "        preds = model(inputs)\n",
        "        loss = criterion(preds, labels)  # 손실 계산\n",
        "        loss.backward()    # 역전파 (손실에 대한 기울기 계산)\n",
        "        optimizer.step()    # 기울기를 바탕으로 모델의 가중치(파라미터) 업데이트\n",
        "\n",
        "        total_loss += loss.item()\n",
        "\n",
        "    print(f\"Epoch {epoch:3d} | Loss: {total_loss}\")\n",
        "    train_accuracy = accuracy(model, trainloader)\n",
        "    train_accuracies.append(train_accuracy)\n",
        "\n",
        "    # 평가 모드\n",
        "    model.eval()\n",
        "    with torch.no_grad():\n",
        "        test_accuracy = accuracy(model, testloader)\n",
        "        test_accuracies.append(test_accuracy)\n",
        "\n",
        "# 3. 정확도 plot\n",
        "plot_acc(train_accuracies, test_accuracies)"
      ],
      "metadata": {
        "colab": {
          "base_uri": "https://localhost:8080/",
          "height": 1000
        },
        "id": "_iLxWbnreivl",
        "outputId": "8255eacb-0853-4a00-c638-2084557d70b3"
      },
      "execution_count": null,
      "outputs": [
        {
          "output_type": "stream",
          "name": "stdout",
          "text": [
            "Epoch   0 | Loss: 540.0245952606201\n",
            "Epoch   1 | Loss: 536.4269711971283\n",
            "Epoch   2 | Loss: 532.7391064167023\n",
            "Epoch   3 | Loss: 528.854058265686\n",
            "Epoch   4 | Loss: 524.6445200443268\n",
            "Epoch   5 | Loss: 520.000307559967\n",
            "Epoch   6 | Loss: 514.7938523292542\n",
            "Epoch   7 | Loss: 508.8836874961853\n",
            "Epoch   8 | Loss: 502.11131978034973\n",
            "Epoch   9 | Loss: 494.331604719162\n",
            "Epoch  10 | Loss: 485.37314772605896\n",
            "Epoch  11 | Loss: 475.05216217041016\n",
            "Epoch  12 | Loss: 463.2356061935425\n",
            "Epoch  13 | Loss: 449.74945616722107\n",
            "Epoch  14 | Loss: 434.5713608264923\n",
            "Epoch  15 | Loss: 417.67008352279663\n",
            "Epoch  16 | Loss: 399.3040977716446\n",
            "Epoch  17 | Loss: 379.7314866781235\n",
            "Epoch  18 | Loss: 359.5759161710739\n",
            "Epoch  19 | Loss: 339.33948290348053\n",
            "Epoch  20 | Loss: 319.49274587631226\n",
            "Epoch  21 | Loss: 300.59810066223145\n",
            "Epoch  22 | Loss: 282.96209847927094\n",
            "Epoch  23 | Loss: 266.7689106464386\n",
            "Epoch  24 | Loss: 252.00188767910004\n",
            "Epoch  25 | Loss: 238.83008480072021\n",
            "Epoch  26 | Loss: 226.84833532571793\n",
            "Epoch  27 | Loss: 216.21446120738983\n",
            "Epoch  28 | Loss: 206.55003160238266\n",
            "Epoch  29 | Loss: 197.88986003398895\n",
            "Epoch  30 | Loss: 190.04402655363083\n",
            "Epoch  31 | Loss: 182.98751693964005\n",
            "Epoch  32 | Loss: 176.56302458047867\n",
            "Epoch  33 | Loss: 170.77615332603455\n",
            "Epoch  34 | Loss: 165.3993043899536\n",
            "Epoch  35 | Loss: 160.56786221265793\n",
            "Epoch  36 | Loss: 156.02124989032745\n",
            "Epoch  37 | Loss: 151.85270082950592\n",
            "Epoch  38 | Loss: 148.07318753004074\n",
            "Epoch  39 | Loss: 144.56388396024704\n",
            "Epoch  40 | Loss: 141.29736584424973\n",
            "Epoch  41 | Loss: 138.3475177884102\n",
            "Epoch  42 | Loss: 135.4084340929985\n",
            "Epoch  43 | Loss: 132.7169379889965\n",
            "Epoch  44 | Loss: 130.24975588917732\n",
            "Epoch  45 | Loss: 127.93485262989998\n",
            "Epoch  46 | Loss: 125.71524810791016\n",
            "Epoch  47 | Loss: 123.72479763627052\n",
            "Epoch  48 | Loss: 121.77142706513405\n",
            "Epoch  49 | Loss: 119.93221479654312\n",
            "Epoch  50 | Loss: 118.24646899104118\n",
            "Epoch  51 | Loss: 116.55967453122139\n",
            "Epoch  52 | Loss: 114.99132919311523\n",
            "Epoch  53 | Loss: 113.55683356523514\n",
            "Epoch  54 | Loss: 112.10181927680969\n",
            "Epoch  55 | Loss: 110.77806189656258\n",
            "Epoch  56 | Loss: 109.53444129228592\n",
            "Epoch  57 | Loss: 108.37601295113564\n",
            "Epoch  58 | Loss: 107.0645664036274\n",
            "Epoch  59 | Loss: 106.07361081242561\n",
            "Epoch  60 | Loss: 104.96840697526932\n",
            "Epoch  61 | Loss: 103.95158118009567\n",
            "Epoch  62 | Loss: 102.94954720139503\n",
            "Epoch  63 | Loss: 102.1076432466507\n",
            "Epoch  64 | Loss: 101.21164947748184\n",
            "Epoch  65 | Loss: 100.27783620357513\n",
            "Epoch  66 | Loss: 99.42616787552834\n",
            "Epoch  67 | Loss: 98.69420391321182\n",
            "Epoch  68 | Loss: 97.98232382535934\n",
            "Epoch  69 | Loss: 97.23752543330193\n",
            "Epoch  70 | Loss: 96.56454536318779\n",
            "Epoch  71 | Loss: 95.75668799877167\n",
            "Epoch  72 | Loss: 95.09694895148277\n",
            "Epoch  73 | Loss: 94.53876769542694\n",
            "Epoch  74 | Loss: 93.90662506222725\n",
            "Epoch  75 | Loss: 93.2774266898632\n",
            "Epoch  76 | Loss: 92.61697536706924\n",
            "Epoch  77 | Loss: 92.14623019099236\n",
            "Epoch  78 | Loss: 91.52593682706356\n",
            "Epoch  79 | Loss: 91.05776277184486\n",
            "Epoch  80 | Loss: 90.52356031537056\n",
            "Epoch  81 | Loss: 90.04259559512138\n",
            "Epoch  82 | Loss: 89.49736979603767\n",
            "Epoch  83 | Loss: 89.1768628358841\n",
            "Epoch  84 | Loss: 88.65243136882782\n",
            "Epoch  85 | Loss: 88.12000933289528\n",
            "Epoch  86 | Loss: 87.75907163321972\n",
            "Epoch  87 | Loss: 87.42037200927734\n",
            "Epoch  88 | Loss: 86.88502752780914\n",
            "Epoch  89 | Loss: 86.52000002563\n",
            "Epoch  90 | Loss: 86.11787915229797\n",
            "Epoch  91 | Loss: 85.74685797095299\n",
            "Epoch  92 | Loss: 85.37971577048302\n",
            "Epoch  93 | Loss: 84.92601478099823\n",
            "Epoch  94 | Loss: 84.57009515166283\n",
            "Epoch  95 | Loss: 84.28152278065681\n",
            "Epoch  96 | Loss: 83.96468636393547\n",
            "Epoch  97 | Loss: 83.53492447733879\n",
            "Epoch  98 | Loss: 83.26480215787888\n",
            "Epoch  99 | Loss: 82.87227921187878\n"
          ]
        },
        {
          "output_type": "display_data",
          "data": {
            "text/plain": [
              "<Figure size 640x480 with 1 Axes>"
            ],
            "image/png": "[encoded data removed]"
          },
          "metadata": {}
        }
      ]
    },
    {
      "cell_type": "code",
      "source": [
        "idx = 0\n",
        "\n",
        "# x = trainset[idx][0][None]  # (1, 1, 28, 28)\n",
        "# x = x.to('cuda')\n",
        "\n",
        "# print(model(x))\n",
        "# print(trainset[idx][1])\n",
        "\n",
        "x = testset[idx][0][None]  # (1, 1, 28, 28)\n",
        "x = x.to('cuda')\n",
        "\n",
        "print(model(x))\n",
        "print(testset[idx][1])"
      ],
      "metadata": {
        "colab": {
          "base_uri": "https://localhost:8080/"
        },
        "id": "VD5RyojMekZK",
        "outputId": "ce5f0583-d45a-4fdf-d335-03ca1d850d31"
      },
      "execution_count": null,
      "outputs": [
        {
          "output_type": "stream",
          "name": "stdout",
          "text": [
            "tensor([[ 0.3285, -4.5035, -0.2875,  1.9135, -2.2832, -0.8699, -6.6858,  8.8521,\n",
            "         -0.7146,  3.7176]], device='cuda:0', grad_fn=<AddmmBackward0>)\n",
            "7\n"
          ]
        }
      ]
    },
    {
      "cell_type": "code",
      "source": [],
      "metadata": {
        "id": "nNx_klQHhkJa"
      },
      "execution_count": null,
      "outputs": []
    }
  ]
}