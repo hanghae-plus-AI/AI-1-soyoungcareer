{
  "nbformat": 4,
  "nbformat_minor": 0,
  "metadata": {
    "colab": {
      "provenance": [],
      "machine_shape": "hm",
      "gpuType": "A100",
      "include_colab_link": true
    },
    "kernelspec": {
      "name": "python3",
      "display_name": "Python 3"
    },
    "language_info": {
      "name": "python"
    },
    "accelerator": "GPU"
  },
  "cells": [
    {
      "cell_type": "markdown",
      "metadata": {
        "id": "view-in-github",
        "colab_type": "text"
      },
      "source": [
        "<a href=\"https://colab.research.google.com/github/hanghae-plus-AI/AI-1-soyoungcareer/blob/main/week5/Chapter3_2_%EC%8B%AC%ED%99%94%EA%B3%BC%EC%A0%9C.ipynb\" target=\"_parent\"><img src=\"https://colab.research.google.com/assets/colab-badge.svg\" alt=\"Open In Colab\"/></a>"
      ]
    },
    {
      "cell_type": "code",
      "source": [
        "# Google Drive에 저장한 json 파일 불러오기\n",
        "import json\n",
        "\n",
        "from google.colab import drive\n",
        "drive.mount('/content/drive')\n",
        "file_path = '/content/drive/MyDrive/Colab Notebooks/2023_11_KICE.json'\n",
        "\n",
        "with open(file_path, 'r') as file:\n",
        "    data = json.load(file)"
      ],
      "metadata": {
        "id": "NzTFAfc47ij-",
        "colab": {
          "base_uri": "https://localhost:8080/"
        },
        "outputId": "a3b42b70-9df0-45aa-f0dc-a943f6eb74f1"
      },
      "execution_count": null,
      "outputs": [
        {
          "output_type": "stream",
          "name": "stdout",
          "text": [
            "Mounted at /content/drive\n"
          ]
        }
      ]
    },
    {
      "cell_type": "code",
      "execution_count": null,
      "metadata": {
        "colab": {
          "base_uri": "https://localhost:8080/"
        },
        "id": "x3mIFZyNXwvP",
        "outputId": "aa0ab6eb-6e1c-402d-950e-9f76260388d5",
        "collapsed": true
      },
      "outputs": [
        {
          "output_type": "stream",
          "name": "stdout",
          "text": [
            "\u001b[?25l   \u001b[90m━━━━━━━━━━━━━━━━━━━━━━━━━━━━━━━━━━━━━━━━\u001b[0m \u001b[32m0.0/383.7 kB\u001b[0m \u001b[31m?\u001b[0m eta \u001b[36m-:--:--\u001b[0m\r\u001b[2K   \u001b[90m━━━━━━━━━━━━━━━━━━━━━━━━━━━━━━━━━━━━━━━━\u001b[0m \u001b[32m383.7/383.7 kB\u001b[0m \u001b[31m26.4 MB/s\u001b[0m eta \u001b[36m0:00:00\u001b[0m\n",
            "\u001b[?25h\u001b[?25l   \u001b[90m━━━━━━━━━━━━━━━━━━━━━━━━━━━━━━━━━━━━━━━━\u001b[0m \u001b[32m0.0/76.4 kB\u001b[0m \u001b[31m?\u001b[0m eta \u001b[36m-:--:--\u001b[0m\r\u001b[2K   \u001b[90m━━━━━━━━━━━━━━━━━━━━━━━━━━━━━━━━━━━━━━━━\u001b[0m \u001b[32m76.4/76.4 kB\u001b[0m \u001b[31m7.0 MB/s\u001b[0m eta \u001b[36m0:00:00\u001b[0m\n",
            "\u001b[?25h\u001b[?25l   \u001b[90m━━━━━━━━━━━━━━━━━━━━━━━━━━━━━━━━━━━━━━━━\u001b[0m \u001b[32m0.0/78.0 kB\u001b[0m \u001b[31m?\u001b[0m eta \u001b[36m-:--:--\u001b[0m\r\u001b[2K   \u001b[90m━━━━━━━━━━━━━━━━━━━━━━━━━━━━━━━━━━━━━━━━\u001b[0m \u001b[32m78.0/78.0 kB\u001b[0m \u001b[31m7.2 MB/s\u001b[0m eta \u001b[36m0:00:00\u001b[0m\n",
            "\u001b[?25h\u001b[?25l   \u001b[90m━━━━━━━━━━━━━━━━━━━━━━━━━━━━━━━━━━━━━━━━\u001b[0m \u001b[32m0.0/325.2 kB\u001b[0m \u001b[31m?\u001b[0m eta \u001b[36m-:--:--\u001b[0m\r\u001b[2K   \u001b[90m━━━━━━━━━━━━━━━━━━━━━━━━━━━━━━━━━━━━━━━━\u001b[0m \u001b[32m325.2/325.2 kB\u001b[0m \u001b[31m23.4 MB/s\u001b[0m eta \u001b[36m0:00:00\u001b[0m\n",
            "\u001b[?25h\u001b[?25l   \u001b[90m━━━━━━━━━━━━━━━━━━━━━━━━━━━━━━━━━━━━━━━━\u001b[0m \u001b[32m0.0/58.3 kB\u001b[0m \u001b[31m?\u001b[0m eta \u001b[36m-:--:--\u001b[0m\r\u001b[2K   \u001b[90m━━━━━━━━━━━━━━━━━━━━━━━━━━━━━━━━━━━━━━━━\u001b[0m \u001b[32m58.3/58.3 kB\u001b[0m \u001b[31m3.0 MB/s\u001b[0m eta \u001b[36m0:00:00\u001b[0m\n",
            "\u001b[?25h"
          ]
        }
      ],
      "source": [
        "!pip -q install openai"
      ]
    },
    {
      "cell_type": "markdown",
      "source": [
        "그 다음 openai api key를 다음과 같은 절차를 거쳐 얻어냅니다:\n",
        "1. platform.openai.com 에 계정을 생성하여 로그인합니다.\n",
        "2. `Dashboard > API keys` 메뉴로 들어가 `+ Create new secret key`를 눌러줍니다.\n",
        "3. 이름을 작성한 후, `Create secret key`를 눌러 key를 만들어줍니다.\n",
        "4. 생성된 key를 복사한 후 아래 \"OPENAI_API_KEY\"에 붙여넣어줍니다."
      ],
      "metadata": {
        "id": "qHSO087Gpj1o"
      }
    },
    {
      "cell_type": "code",
      "source": [
        "from openai import OpenAI\n",
        "from google.colab import userdata\n",
        "\n",
        "client = OpenAI(api_key=userdata.get('OPENAI_API_KEY'))"
      ],
      "metadata": {
        "id": "TuFFzx_TXxn3"
      },
      "execution_count": null,
      "outputs": []
    },
    {
      "cell_type": "markdown",
      "source": [
        "처음 계정을 생성하고 사용할 때는 10달러 정도의 credit을 주는 것으로 알고 있습니다.\n",
        "만약 credit이 없다면 1달러 정도만 충전해줘도 아래 실습을 진행하는데 있어 문제는 생기지 않습니다."
      ],
      "metadata": {
        "id": "xvLffQE1qWId"
      }
    },
    {
      "cell_type": "code",
      "source": [
        "def prediction(problem, paragraph=\"\", question_plus=\"\"):\n",
        "    # 문제 내용 구성\n",
        "    full_question = f\"지문: {paragraph}\\n\" if paragraph else \"\"\n",
        "    full_question += f\"문제: {problem['question']}\\n\"\n",
        "    full_question += f\"추가 설명: {question_plus}\\n\" if question_plus else \"\"\n",
        "    full_question += f\"선택지: {', '.join(problem['choices'])}\"\n",
        "\n",
        "    # 역할 부여\n",
        "    messages = [\n",
        "        {\"role\": \"system\", \"content\": \"You are a helpful assistant that helps solve Korean multiple-choice questions.\"},\n",
        "        {\"role\": \"user\", \"content\": f\"{full_question}\\n반드시 1, 2, 3, 4, 5 숫자 중 하나로만 입력하세요. 다른 글자나 설명은 입력하지 마세요.\"}\n",
        "    ]\n",
        "\n",
        "    # GPT-4의 응답 생성\n",
        "    response = client.chat.completions.create(\n",
        "        model=\"gpt-4-turbo\",\n",
        "        messages=messages,\n",
        "        max_tokens=50,\n",
        "        n=1,  # 응답의 개수\n",
        "        stop=None,  # 특정 문자열을 만나면 중지하는 기능\n",
        "        temperature=0.5  # 모델의 창의성 (1에 가까울수록 창의적인 답변 제공)\n",
        "    )\n",
        "\n",
        "    # GPT의 답변을 문자열로 받음\n",
        "    answer = response.choices[0].message.content.strip()\n",
        "    print(f\"GPT 응답: {answer}\")\n",
        "\n",
        "    # GPT의 답변을 선택지 번호로 반환\n",
        "    try:\n",
        "        return int(answer)\n",
        "    except ValueError:\n",
        "        return -1  # 만약 숫자가 아닌 답을 주었을 경우\n",
        "\n",
        "def calculate_score(data):\n",
        "    total_score = 0\n",
        "    max_score = 0\n",
        "\n",
        "    # 모든 문제를 풀고, 점수를 계산\n",
        "    for item in data:\n",
        "        paragraph = item.get('paragraph', '')\n",
        "\n",
        "        for problem in item['problems']:\n",
        "            question_plus = problem.get('question_plus', '')\n",
        "            gpt_answer = prediction(problem, paragraph, question_plus)\n",
        "            print(f\"gpt_answer: {gpt_answer}\")\n",
        "\n",
        "            correct_answer = problem['answer']\n",
        "            problem_score = problem['score']\n",
        "\n",
        "            # 정답이면 문제의 배점을 추가\n",
        "            if gpt_answer == correct_answer:\n",
        "                total_score += problem_score\n",
        "            max_score += problem_score\n",
        "\n",
        "    return total_score, max_score\n",
        "\n",
        "# 채점 및 점수 계산\n",
        "total_score, max_score = calculate_score(data)\n",
        "\n",
        "print(f\"GPT-4의 점수: {total_score} / {max_score}\")\n",
        "if total_score >= 50:\n",
        "    print(\"통과!\")\n",
        "else:\n",
        "    print(\"실패.\")"
      ],
      "metadata": {
        "id": "yYd1uiX8Y2bm",
        "colab": {
          "base_uri": "https://localhost:8080/"
        },
        "outputId": "0dc92400-8aee-4833-d9c7-66066366f0aa"
      },
      "execution_count": null,
      "outputs": [
        {
          "output_type": "stream",
          "name": "stdout",
          "text": [
            "GPT 응답: 4\n",
            "gpt_answer: 4\n",
            "GPT 응답: 4\n",
            "gpt_answer: 4\n",
            "GPT 응답: 1\n",
            "gpt_answer: 1\n",
            "GPT 응답: 4\n",
            "gpt_answer: 4\n",
            "GPT 응답: 5\n",
            "gpt_answer: 5\n",
            "GPT 응답: 3\n",
            "gpt_answer: 3\n",
            "GPT 응답: 2\n",
            "gpt_answer: 2\n",
            "GPT 응답: 3\n",
            "gpt_answer: 3\n",
            "GPT 응답: 2\n",
            "gpt_answer: 2\n",
            "GPT 응답: 4\n",
            "gpt_answer: 4\n",
            "GPT 응답: 3\n",
            "gpt_answer: 3\n",
            "GPT 응답: 3\n",
            "gpt_answer: 3\n",
            "GPT 응답: 3\n",
            "gpt_answer: 3\n",
            "GPT 응답: 3\n",
            "gpt_answer: 3\n",
            "GPT 응답: 2\n",
            "gpt_answer: 2\n",
            "GPT 응답: 3\n",
            "gpt_answer: 3\n",
            "GPT 응답: 4\n",
            "gpt_answer: 4\n",
            "GPT 응답: 4\n",
            "gpt_answer: 4\n",
            "GPT 응답: 3\n",
            "gpt_answer: 3\n",
            "GPT 응답: 3\n",
            "gpt_answer: 3\n",
            "GPT 응답: 4\n",
            "gpt_answer: 4\n",
            "GPT 응답: 1\n",
            "gpt_answer: 1\n",
            "GPT 응답: 5\n",
            "gpt_answer: 5\n",
            "GPT 응답: 3\n",
            "gpt_answer: 3\n",
            "GPT 응답: 3\n",
            "gpt_answer: 3\n",
            "GPT 응답: 4\n",
            "gpt_answer: 4\n",
            "GPT 응답: 2\n",
            "gpt_answer: 2\n",
            "GPT 응답: 5\n",
            "gpt_answer: 5\n",
            "GPT 응답: 4\n",
            "gpt_answer: 4\n",
            "GPT 응답: 2\n",
            "gpt_answer: 2\n",
            "GPT 응답: 1\n",
            "gpt_answer: 1\n",
            "GPT 응답: 4\n",
            "gpt_answer: 4\n",
            "GPT 응답: 3\n",
            "gpt_answer: 3\n",
            "GPT 응답: 3\n",
            "gpt_answer: 3\n",
            "GPT 응답: 1\n",
            "gpt_answer: 1\n",
            "GPT 응답: 5\n",
            "gpt_answer: 5\n",
            "GPT 응답: 3\n",
            "gpt_answer: 3\n",
            "GPT 응답: 3\n",
            "gpt_answer: 3\n",
            "GPT 응답: 4\n",
            "gpt_answer: 4\n",
            "GPT 응답: 3\n",
            "gpt_answer: 3\n",
            "GPT 응답: 5\n",
            "gpt_answer: 5\n",
            "GPT 응답: 4\n",
            "gpt_answer: 4\n",
            "GPT 응답: 5\n",
            "gpt_answer: 5\n",
            "GPT 응답: 2\n",
            "gpt_answer: 2\n",
            "GPT 응답: 5\n",
            "gpt_answer: 5\n",
            "GPT-4의 점수: 63 / 100\n",
            "통과!\n"
          ]
        }
      ]
    },
    {
      "cell_type": "markdown",
      "source": [
        "## **answer 형태**\n",
        "\n",
        "\n",
        "    GPT 응답: 윗글의 내용이 제공되지 않았기 때문에, 제공된 선택지 중 어느 것이 윗글의 내용과 일치하지 않는지 판단할 수\n",
        "    GPT 응답: 문제에서 제공된 정보가 부족하여 정확한 답변을 제공하기 어렵습니다. [A]의 내용과 ⓐ～ⓔ 각 항목\n",
        "    GPT 응답: 정답을 제공하기 위해서는 ㉠에 대한 정보가 필요합니다. 문제에서 언급된 ㉠의 내용이 없어서 정확한 답변\n",
        "    GPT 응답: 문제의 내용과 선택지를 직접 볼 수 없기 때문에 정확한 답변을 제공하기 어렵습니다. 그러나 제공된 정보를 바탕\n",
        "    GPT 응답: 1\n",
        "    GPT 응답: 선택지 2\n",
        "    GPT 응답: 정답은 2번입니다.\n",
        "    GPT 응답: 정답은 1 입니다.\n",
        "    GPT 응답: 문제의 문맥을 제공하지 않으셨기 때문에, 각 선택지의 의미만을 고려하여 정답을 유추할 수 있습니다. 각 선택\n",
        "    GPT 응답: 4\n",
        "    GPT 응답: 정답은 4번입니다.\n",
        "    GPT 응답: 정확한 문제의 내용이 제공되지 않았기 때문에, 문제의 상세한 내용 없이 선택지만으로는 정확한 답을 제공하기 어\n",
        "    GPT 응답: 정답은 3입니다.\n",
        "\n",
        "=> 문단이 빠져서 해결하지 못하는 것으로 보임."
      ],
      "metadata": {
        "id": "KRIaNyCYsXwV"
      }
    },
    {
      "cell_type": "markdown",
      "source": [
        "## **paragraph, question_plus 추가 후 답변**\n",
        "\n",
        "숫자로만 답하라고 했음에도 숫자 5만 답하는 것이 아닌 '정답 : 5' 이런식으로 응답하는 경우가 있어 다른 글자나 설명은 넣지 말라고 추가로 요청하였음.\n",
        "\n",
        "=> 더 restrict 하게 role을 부여하니 숫자로만 답하는 것을 확인하였음."
      ],
      "metadata": {
        "id": "mp3IYi2G0JEI"
      }
    }
  ]
}